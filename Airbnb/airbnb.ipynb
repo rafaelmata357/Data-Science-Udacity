{
 "cells": [
  {
   "cell_type": "markdown",
   "metadata": {},
   "source": [
    "## Analyzing the Air bnb datasets for Seattle and Boston"
   ]
  },
  {
   "cell_type": "markdown",
   "metadata": {},
   "source": [
    "### Part of the first project for DataScience Nanodegree from Udacity"
   ]
  },
  {
   "cell_type": "markdown",
   "metadata": {},
   "source": [
    "### Data Scientist: Rafael Mata M."
   ]
  },
  {
   "cell_type": "markdown",
   "metadata": {},
   "source": [
    "### Date Created: 15 October 2020\n",
    "### Last updated: 27 October 2020"
   ]
  },
  {
   "cell_type": "markdown",
   "metadata": {},
   "source": [
    "#### Import the libraries "
   ]
  },
  {
   "cell_type": "code",
   "execution_count": 571,
   "metadata": {},
   "outputs": [
    {
     "name": "stderr",
     "output_type": "stream",
     "text": [
      "[nltk_data] Downloading package stopwords to\n",
      "[nltk_data]     /Users/rafaelmata357/nltk_data...\n",
      "[nltk_data]   Package stopwords is already up-to-date!\n",
      "[nltk_data] Downloading package punkt to\n",
      "[nltk_data]     /Users/rafaelmata357/nltk_data...\n",
      "[nltk_data]   Package punkt is already up-to-date!\n"
     ]
    }
   ],
   "source": [
    "import pandas as pd\n",
    "import numpy as np\n",
    "import matplotlib.pyplot as plt\n",
    "import seaborn as sns\n",
    "from nltk.corpus import stopwords\n",
    "from nltk.tokenize import word_tokenize\n",
    "from wordcloud import WordCloud\n",
    "\n",
    "# if needed download stopwords and punkt\n",
    "\n",
    "import nltk\n",
    "nltk.download('stopwords')\n",
    "nltk.download('punkt')\n",
    "\n",
    "%matplotlib inline"
   ]
  },
  {
   "cell_type": "markdown",
   "metadata": {},
   "source": [
    "### Read the datasets"
   ]
  },
  {
   "cell_type": "code",
   "execution_count": 115,
   "metadata": {},
   "outputs": [],
   "source": [
    "boston_dir = '/Users/rafaelmata357/Udacity/Data Science Nanodegree/Projects/Airbnb/Boston/'\n",
    "seattle_dir = '/Users/rafaelmata357/Udacity/Data Science Nanodegree/Projects/Airbnb/Seattle/'"
   ]
  },
  {
   "cell_type": "markdown",
   "metadata": {},
   "source": [
    "#### Boston Datasets"
   ]
  },
  {
   "cell_type": "code",
   "execution_count": 116,
   "metadata": {},
   "outputs": [
    {
     "name": "stdout",
     "output_type": "stream",
     "text": [
      "Boston datasets read...\n"
     ]
    }
   ],
   "source": [
    "boston_df_listings = pd.read_csv(boston_dir+'listings.csv')\n",
    "boston_df_calendar = pd.read_csv(boston_dir+'calendar.csv')\n",
    "boston_df_reviews = pd.read_csv(boston_dir+'reviews.csv')\n",
    "print('Boston datasets read...')"
   ]
  },
  {
   "cell_type": "markdown",
   "metadata": {},
   "source": [
    "#### Seattle Datasets"
   ]
  },
  {
   "cell_type": "code",
   "execution_count": 117,
   "metadata": {},
   "outputs": [
    {
     "name": "stdout",
     "output_type": "stream",
     "text": [
      "Seattle datasets read...\n"
     ]
    }
   ],
   "source": [
    "seattle_df_listings = pd.read_csv(seattle_dir+'listings.csv')\n",
    "seattle_df_calendar = pd.read_csv(seattle_dir+'calendar.csv')\n",
    "seattle_df_reviews = pd.read_csv(seattle_dir+'reviews.csv')\n",
    "print('Seattle datasets read...')"
   ]
  },
  {
   "cell_type": "markdown",
   "metadata": {},
   "source": [
    "## DATA UNDERSTANDING"
   ]
  },
  {
   "cell_type": "markdown",
   "metadata": {},
   "source": [
    "There is three datasets:\n",
    "    \n",
    "- listings: contains the list of airbnb's houses in the Boston and Seattle area\n",
    "- calendar: the availabily of houses\n",
    "- reviews: Reviews for the houses\n",
    "\n",
    "The datasets can be found here"
   ]
  },
  {
   "cell_type": "markdown",
   "metadata": {},
   "source": [
    "#### Datasets shapes"
   ]
  },
  {
   "cell_type": "code",
   "execution_count": 462,
   "metadata": {},
   "outputs": [
    {
     "name": "stdout",
     "output_type": "stream",
     "text": [
      "BOSTON datasets Shape\n",
      "Listings dataset: (3585, 95)\n",
      "Calendar dataset: (1308890, 7)\n",
      "Reviews dataset: (68275, 9)\n"
     ]
    }
   ],
   "source": [
    "print('BOSTON datasets Shape')\n",
    "print('Listings dataset: {}'.format(boston_df_listings.shape))\n",
    "print('Calendar dataset: {}'.format(boston_df_calendar.shape))\n",
    "print('Reviews dataset: {}'.format(boston_df_reviews.shape))"
   ]
  },
  {
   "cell_type": "code",
   "execution_count": 463,
   "metadata": {},
   "outputs": [
    {
     "name": "stdout",
     "output_type": "stream",
     "text": [
      "SEATTLE datasets Shape\n",
      "Listings dataset: (3818, 92)\n",
      "Calendar dataset: (1393570, 7)\n",
      "Reviews dataset: (84849, 9)\n"
     ]
    }
   ],
   "source": [
    "print('SEATTLE datasets Shape')\n",
    "print('Listings dataset: {}'.format(seattle_df_listings.shape))\n",
    "print('Calendar dataset: {}'.format(seattle_df_calendar.shape))\n",
    "print('Reviews dataset: {}'.format(seattle_df_reviews.shape))"
   ]
  },
  {
   "cell_type": "code",
   "execution_count": 556,
   "metadata": {},
   "outputs": [
    {
     "data": {
      "text/html": [
       "<div>\n",
       "<style scoped>\n",
       "    .dataframe tbody tr th:only-of-type {\n",
       "        vertical-align: middle;\n",
       "    }\n",
       "\n",
       "    .dataframe tbody tr th {\n",
       "        vertical-align: top;\n",
       "    }\n",
       "\n",
       "    .dataframe thead th {\n",
       "        text-align: right;\n",
       "    }\n",
       "</style>\n",
       "<table border=\"1\" class=\"dataframe\">\n",
       "  <thead>\n",
       "    <tr style=\"text-align: right;\">\n",
       "      <th></th>\n",
       "      <th>listing_id</th>\n",
       "      <th>id</th>\n",
       "      <th>date</th>\n",
       "      <th>reviewer_id</th>\n",
       "      <th>reviewer_name</th>\n",
       "      <th>comments</th>\n",
       "      <th>month</th>\n",
       "      <th>year</th>\n",
       "      <th>dayofweek</th>\n",
       "    </tr>\n",
       "  </thead>\n",
       "  <tbody>\n",
       "    <tr>\n",
       "      <th>0</th>\n",
       "      <td>1178162</td>\n",
       "      <td>4724140</td>\n",
       "      <td>2013-05-21</td>\n",
       "      <td>4298113</td>\n",
       "      <td>Olivier</td>\n",
       "      <td>My stay at islam's place w...</td>\n",
       "      <td>5</td>\n",
       "      <td>2013</td>\n",
       "      <td>1</td>\n",
       "    </tr>\n",
       "    <tr>\n",
       "      <th>1</th>\n",
       "      <td>1178162</td>\n",
       "      <td>4869189</td>\n",
       "      <td>2013-05-29</td>\n",
       "      <td>6452964</td>\n",
       "      <td>Charlotte</td>\n",
       "      <td>Great location for both ai...</td>\n",
       "      <td>5</td>\n",
       "      <td>2013</td>\n",
       "      <td>2</td>\n",
       "    </tr>\n",
       "    <tr>\n",
       "      <th>2</th>\n",
       "      <td>1178162</td>\n",
       "      <td>5003196</td>\n",
       "      <td>2013-06-06</td>\n",
       "      <td>6449554</td>\n",
       "      <td>Sebastian</td>\n",
       "      <td>We really enjoyed our stay...</td>\n",
       "      <td>6</td>\n",
       "      <td>2013</td>\n",
       "      <td>3</td>\n",
       "    </tr>\n",
       "    <tr>\n",
       "      <th>3</th>\n",
       "      <td>1178162</td>\n",
       "      <td>5150351</td>\n",
       "      <td>2013-06-15</td>\n",
       "      <td>2215611</td>\n",
       "      <td>Marine</td>\n",
       "      <td>The room was nice and clea...</td>\n",
       "      <td>6</td>\n",
       "      <td>2013</td>\n",
       "      <td>5</td>\n",
       "    </tr>\n",
       "    <tr>\n",
       "      <th>4</th>\n",
       "      <td>1178162</td>\n",
       "      <td>5171140</td>\n",
       "      <td>2013-06-16</td>\n",
       "      <td>6848427</td>\n",
       "      <td>Andrew</td>\n",
       "      <td>Great location. Just 5 min...</td>\n",
       "      <td>6</td>\n",
       "      <td>2013</td>\n",
       "      <td>6</td>\n",
       "    </tr>\n",
       "  </tbody>\n",
       "</table>\n",
       "</div>"
      ],
      "text/plain": [
       "   listing_id       id        date  reviewer_id reviewer_name  \\\n",
       "0     1178162  4724140  2013-05-21      4298113       Olivier   \n",
       "1     1178162  4869189  2013-05-29      6452964     Charlotte   \n",
       "2     1178162  5003196  2013-06-06      6449554     Sebastian   \n",
       "3     1178162  5150351  2013-06-15      2215611        Marine   \n",
       "4     1178162  5171140  2013-06-16      6848427        Andrew   \n",
       "\n",
       "                        comments  month  year  dayofweek  \n",
       "0  My stay at islam's place w...      5  2013          1  \n",
       "1  Great location for both ai...      5  2013          2  \n",
       "2  We really enjoyed our stay...      6  2013          3  \n",
       "3  The room was nice and clea...      6  2013          5  \n",
       "4  Great location. Just 5 min...      6  2013          6  "
      ]
     },
     "execution_count": 556,
     "metadata": {},
     "output_type": "execute_result"
    }
   ],
   "source": [
    "boston_df_reviews.head(5)"
   ]
  },
  {
   "cell_type": "code",
   "execution_count": 557,
   "metadata": {},
   "outputs": [
    {
     "data": {
      "text/html": [
       "<div>\n",
       "<style scoped>\n",
       "    .dataframe tbody tr th:only-of-type {\n",
       "        vertical-align: middle;\n",
       "    }\n",
       "\n",
       "    .dataframe tbody tr th {\n",
       "        vertical-align: top;\n",
       "    }\n",
       "\n",
       "    .dataframe thead th {\n",
       "        text-align: right;\n",
       "    }\n",
       "</style>\n",
       "<table border=\"1\" class=\"dataframe\">\n",
       "  <thead>\n",
       "    <tr style=\"text-align: right;\">\n",
       "      <th></th>\n",
       "      <th>listing_id</th>\n",
       "      <th>date</th>\n",
       "      <th>available</th>\n",
       "      <th>price</th>\n",
       "      <th>month</th>\n",
       "      <th>year</th>\n",
       "      <th>dayofweek</th>\n",
       "    </tr>\n",
       "  </thead>\n",
       "  <tbody>\n",
       "    <tr>\n",
       "      <th>0</th>\n",
       "      <td>12147973</td>\n",
       "      <td>2017-09-05</td>\n",
       "      <td>f</td>\n",
       "      <td>NaN</td>\n",
       "      <td>9</td>\n",
       "      <td>2017</td>\n",
       "      <td>1</td>\n",
       "    </tr>\n",
       "    <tr>\n",
       "      <th>1</th>\n",
       "      <td>12147973</td>\n",
       "      <td>2017-09-04</td>\n",
       "      <td>f</td>\n",
       "      <td>NaN</td>\n",
       "      <td>9</td>\n",
       "      <td>2017</td>\n",
       "      <td>0</td>\n",
       "    </tr>\n",
       "    <tr>\n",
       "      <th>2</th>\n",
       "      <td>12147973</td>\n",
       "      <td>2017-09-03</td>\n",
       "      <td>f</td>\n",
       "      <td>NaN</td>\n",
       "      <td>9</td>\n",
       "      <td>2017</td>\n",
       "      <td>6</td>\n",
       "    </tr>\n",
       "    <tr>\n",
       "      <th>3</th>\n",
       "      <td>12147973</td>\n",
       "      <td>2017-09-02</td>\n",
       "      <td>f</td>\n",
       "      <td>NaN</td>\n",
       "      <td>9</td>\n",
       "      <td>2017</td>\n",
       "      <td>5</td>\n",
       "    </tr>\n",
       "    <tr>\n",
       "      <th>4</th>\n",
       "      <td>12147973</td>\n",
       "      <td>2017-09-01</td>\n",
       "      <td>f</td>\n",
       "      <td>NaN</td>\n",
       "      <td>9</td>\n",
       "      <td>2017</td>\n",
       "      <td>4</td>\n",
       "    </tr>\n",
       "  </tbody>\n",
       "</table>\n",
       "</div>"
      ],
      "text/plain": [
       "   listing_id        date available price  month  year  dayofweek\n",
       "0    12147973  2017-09-05         f   NaN      9  2017          1\n",
       "1    12147973  2017-09-04         f   NaN      9  2017          0\n",
       "2    12147973  2017-09-03         f   NaN      9  2017          6\n",
       "3    12147973  2017-09-02         f   NaN      9  2017          5\n",
       "4    12147973  2017-09-01         f   NaN      9  2017          4"
      ]
     },
     "execution_count": 557,
     "metadata": {},
     "output_type": "execute_result"
    }
   ],
   "source": [
    "boston_df_calendar.head(5)"
   ]
  },
  {
   "cell_type": "code",
   "execution_count": 563,
   "metadata": {},
   "outputs": [
    {
     "data": {
      "text/html": [
       "<div>\n",
       "<style scoped>\n",
       "    .dataframe tbody tr th:only-of-type {\n",
       "        vertical-align: middle;\n",
       "    }\n",
       "\n",
       "    .dataframe tbody tr th {\n",
       "        vertical-align: top;\n",
       "    }\n",
       "\n",
       "    .dataframe thead th {\n",
       "        text-align: right;\n",
       "    }\n",
       "</style>\n",
       "<table border=\"1\" class=\"dataframe\">\n",
       "  <thead>\n",
       "    <tr style=\"text-align: right;\">\n",
       "      <th></th>\n",
       "      <th>id</th>\n",
       "      <th>listing_url</th>\n",
       "      <th>scrape_id</th>\n",
       "      <th>last_scraped</th>\n",
       "      <th>name</th>\n",
       "      <th>summary</th>\n",
       "      <th>space</th>\n",
       "      <th>description</th>\n",
       "      <th>experiences_offered</th>\n",
       "      <th>neighborhood_overview</th>\n",
       "      <th>notes</th>\n",
       "      <th>transit</th>\n",
       "      <th>access</th>\n",
       "      <th>interaction</th>\n",
       "      <th>house_rules</th>\n",
       "      <th>thumbnail_url</th>\n",
       "      <th>medium_url</th>\n",
       "      <th>picture_url</th>\n",
       "      <th>xl_picture_url</th>\n",
       "      <th>host_id</th>\n",
       "      <th>host_url</th>\n",
       "      <th>host_name</th>\n",
       "      <th>host_since</th>\n",
       "      <th>host_location</th>\n",
       "      <th>host_about</th>\n",
       "      <th>host_response_time</th>\n",
       "      <th>host_response_rate</th>\n",
       "      <th>host_acceptance_rate</th>\n",
       "      <th>host_is_superhost</th>\n",
       "      <th>host_thumbnail_url</th>\n",
       "      <th>host_picture_url</th>\n",
       "      <th>host_neighbourhood</th>\n",
       "      <th>host_listings_count</th>\n",
       "      <th>host_total_listings_count</th>\n",
       "      <th>host_verifications</th>\n",
       "      <th>host_has_profile_pic</th>\n",
       "      <th>host_identity_verified</th>\n",
       "      <th>street</th>\n",
       "      <th>neighbourhood</th>\n",
       "      <th>neighbourhood_cleansed</th>\n",
       "      <th>neighbourhood_group_cleansed</th>\n",
       "      <th>city</th>\n",
       "      <th>state</th>\n",
       "      <th>zipcode</th>\n",
       "      <th>market</th>\n",
       "      <th>smart_location</th>\n",
       "      <th>country_code</th>\n",
       "      <th>country</th>\n",
       "      <th>latitude</th>\n",
       "      <th>longitude</th>\n",
       "      <th>is_location_exact</th>\n",
       "      <th>property_type</th>\n",
       "      <th>room_type</th>\n",
       "      <th>accommodates</th>\n",
       "      <th>bathrooms</th>\n",
       "      <th>bedrooms</th>\n",
       "      <th>beds</th>\n",
       "      <th>bed_type</th>\n",
       "      <th>amenities</th>\n",
       "      <th>square_feet</th>\n",
       "      <th>price</th>\n",
       "      <th>weekly_price</th>\n",
       "      <th>monthly_price</th>\n",
       "      <th>security_deposit</th>\n",
       "      <th>cleaning_fee</th>\n",
       "      <th>guests_included</th>\n",
       "      <th>extra_people</th>\n",
       "      <th>minimum_nights</th>\n",
       "      <th>maximum_nights</th>\n",
       "      <th>calendar_updated</th>\n",
       "      <th>has_availability</th>\n",
       "      <th>availability_30</th>\n",
       "      <th>availability_60</th>\n",
       "      <th>availability_90</th>\n",
       "      <th>availability_365</th>\n",
       "      <th>calendar_last_scraped</th>\n",
       "      <th>number_of_reviews</th>\n",
       "      <th>first_review</th>\n",
       "      <th>last_review</th>\n",
       "      <th>review_scores_rating</th>\n",
       "      <th>review_scores_accuracy</th>\n",
       "      <th>review_scores_cleanliness</th>\n",
       "      <th>review_scores_checkin</th>\n",
       "      <th>review_scores_communication</th>\n",
       "      <th>review_scores_location</th>\n",
       "      <th>review_scores_value</th>\n",
       "      <th>requires_license</th>\n",
       "      <th>license</th>\n",
       "      <th>jurisdiction_names</th>\n",
       "      <th>instant_bookable</th>\n",
       "      <th>cancellation_policy</th>\n",
       "      <th>require_guest_profile_picture</th>\n",
       "      <th>require_guest_phone_verification</th>\n",
       "      <th>calculated_host_listings_count</th>\n",
       "      <th>reviews_per_month</th>\n",
       "    </tr>\n",
       "  </thead>\n",
       "  <tbody>\n",
       "    <tr>\n",
       "      <th>0</th>\n",
       "      <td>12147973</td>\n",
       "      <td>https://www.airb...</td>\n",
       "      <td>20160906204935</td>\n",
       "      <td>2016-09-07</td>\n",
       "      <td>Sunny Bungalow i...</td>\n",
       "      <td>Cozy, sunny, fam...</td>\n",
       "      <td>The house has an...</td>\n",
       "      <td>Cozy, sunny, fam...</td>\n",
       "      <td>none</td>\n",
       "      <td>Roslindale is qu...</td>\n",
       "      <td>NaN</td>\n",
       "      <td>The bus stop is ...</td>\n",
       "      <td>You will have ac...</td>\n",
       "      <td>NaN</td>\n",
       "      <td>Clean up and tre...</td>\n",
       "      <td>https://a2.musca...</td>\n",
       "      <td>https://a2.musca...</td>\n",
       "      <td>https://a2.musca...</td>\n",
       "      <td>https://a2.musca...</td>\n",
       "      <td>31303940</td>\n",
       "      <td>https://www.airb...</td>\n",
       "      <td>Virginia</td>\n",
       "      <td>2015-04-15</td>\n",
       "      <td>Boston, Massachu...</td>\n",
       "      <td>We are country a...</td>\n",
       "      <td>NaN</td>\n",
       "      <td>NaN</td>\n",
       "      <td>NaN</td>\n",
       "      <td>f</td>\n",
       "      <td>https://a2.musca...</td>\n",
       "      <td>https://a2.musca...</td>\n",
       "      <td>Roslindale</td>\n",
       "      <td>1</td>\n",
       "      <td>1</td>\n",
       "      <td>['email', 'phone...</td>\n",
       "      <td>t</td>\n",
       "      <td>f</td>\n",
       "      <td>Birch Street, Bo...</td>\n",
       "      <td>Roslindale</td>\n",
       "      <td>Roslindale</td>\n",
       "      <td>NaN</td>\n",
       "      <td>Boston</td>\n",
       "      <td>MA</td>\n",
       "      <td>02131</td>\n",
       "      <td>Boston</td>\n",
       "      <td>Boston, MA</td>\n",
       "      <td>US</td>\n",
       "      <td>United States</td>\n",
       "      <td>42.282619</td>\n",
       "      <td>-71.133068</td>\n",
       "      <td>t</td>\n",
       "      <td>House</td>\n",
       "      <td>Entire home/apt</td>\n",
       "      <td>4</td>\n",
       "      <td>1.5</td>\n",
       "      <td>2.0</td>\n",
       "      <td>3.0</td>\n",
       "      <td>Real Bed</td>\n",
       "      <td>{TV,\"Wireless In...</td>\n",
       "      <td>NaN</td>\n",
       "      <td>$250.00</td>\n",
       "      <td>NaN</td>\n",
       "      <td>NaN</td>\n",
       "      <td>NaN</td>\n",
       "      <td>$35.00</td>\n",
       "      <td>1</td>\n",
       "      <td>$0.00</td>\n",
       "      <td>2</td>\n",
       "      <td>1125</td>\n",
       "      <td>2 weeks ago</td>\n",
       "      <td>NaN</td>\n",
       "      <td>0</td>\n",
       "      <td>0</td>\n",
       "      <td>0</td>\n",
       "      <td>0</td>\n",
       "      <td>2016-09-06</td>\n",
       "      <td>0</td>\n",
       "      <td>NaN</td>\n",
       "      <td>NaN</td>\n",
       "      <td>NaN</td>\n",
       "      <td>NaN</td>\n",
       "      <td>NaN</td>\n",
       "      <td>NaN</td>\n",
       "      <td>NaN</td>\n",
       "      <td>NaN</td>\n",
       "      <td>NaN</td>\n",
       "      <td>f</td>\n",
       "      <td>NaN</td>\n",
       "      <td>NaN</td>\n",
       "      <td>f</td>\n",
       "      <td>moderate</td>\n",
       "      <td>f</td>\n",
       "      <td>f</td>\n",
       "      <td>1</td>\n",
       "      <td>NaN</td>\n",
       "    </tr>\n",
       "    <tr>\n",
       "      <th>1</th>\n",
       "      <td>3075044</td>\n",
       "      <td>https://www.airb...</td>\n",
       "      <td>20160906204935</td>\n",
       "      <td>2016-09-07</td>\n",
       "      <td>Charming room in...</td>\n",
       "      <td>Charming and qui...</td>\n",
       "      <td>Small but cozy a...</td>\n",
       "      <td>Charming and qui...</td>\n",
       "      <td>none</td>\n",
       "      <td>The room is in R...</td>\n",
       "      <td>If you don't hav...</td>\n",
       "      <td>Plenty of safe s...</td>\n",
       "      <td>Apt has one more...</td>\n",
       "      <td>If I am at home,...</td>\n",
       "      <td>Pet friendly but...</td>\n",
       "      <td>https://a1.musca...</td>\n",
       "      <td>https://a1.musca...</td>\n",
       "      <td>https://a1.musca...</td>\n",
       "      <td>https://a1.musca...</td>\n",
       "      <td>2572247</td>\n",
       "      <td>https://www.airb...</td>\n",
       "      <td>Andrea</td>\n",
       "      <td>2012-06-07</td>\n",
       "      <td>Boston, Massachu...</td>\n",
       "      <td>I live in Boston...</td>\n",
       "      <td>within an hour</td>\n",
       "      <td>100%</td>\n",
       "      <td>100%</td>\n",
       "      <td>f</td>\n",
       "      <td>https://a2.musca...</td>\n",
       "      <td>https://a2.musca...</td>\n",
       "      <td>Roslindale</td>\n",
       "      <td>1</td>\n",
       "      <td>1</td>\n",
       "      <td>['email', 'phone...</td>\n",
       "      <td>t</td>\n",
       "      <td>t</td>\n",
       "      <td>Pinehurst Street...</td>\n",
       "      <td>Roslindale</td>\n",
       "      <td>Roslindale</td>\n",
       "      <td>NaN</td>\n",
       "      <td>Boston</td>\n",
       "      <td>MA</td>\n",
       "      <td>02131</td>\n",
       "      <td>Boston</td>\n",
       "      <td>Boston, MA</td>\n",
       "      <td>US</td>\n",
       "      <td>United States</td>\n",
       "      <td>42.286241</td>\n",
       "      <td>-71.134374</td>\n",
       "      <td>t</td>\n",
       "      <td>Apartment</td>\n",
       "      <td>Private room</td>\n",
       "      <td>2</td>\n",
       "      <td>1.0</td>\n",
       "      <td>1.0</td>\n",
       "      <td>1.0</td>\n",
       "      <td>Real Bed</td>\n",
       "      <td>{TV,Internet,\"Wi...</td>\n",
       "      <td>NaN</td>\n",
       "      <td>$65.00</td>\n",
       "      <td>$400.00</td>\n",
       "      <td>NaN</td>\n",
       "      <td>$95.00</td>\n",
       "      <td>$10.00</td>\n",
       "      <td>0</td>\n",
       "      <td>$0.00</td>\n",
       "      <td>2</td>\n",
       "      <td>15</td>\n",
       "      <td>a week ago</td>\n",
       "      <td>NaN</td>\n",
       "      <td>26</td>\n",
       "      <td>54</td>\n",
       "      <td>84</td>\n",
       "      <td>359</td>\n",
       "      <td>2016-09-06</td>\n",
       "      <td>36</td>\n",
       "      <td>2014-06-01</td>\n",
       "      <td>2016-08-13</td>\n",
       "      <td>94.0</td>\n",
       "      <td>10.0</td>\n",
       "      <td>9.0</td>\n",
       "      <td>10.0</td>\n",
       "      <td>10.0</td>\n",
       "      <td>9.0</td>\n",
       "      <td>9.0</td>\n",
       "      <td>f</td>\n",
       "      <td>NaN</td>\n",
       "      <td>NaN</td>\n",
       "      <td>t</td>\n",
       "      <td>moderate</td>\n",
       "      <td>f</td>\n",
       "      <td>f</td>\n",
       "      <td>1</td>\n",
       "      <td>1.30</td>\n",
       "    </tr>\n",
       "    <tr>\n",
       "      <th>2</th>\n",
       "      <td>6976</td>\n",
       "      <td>https://www.airb...</td>\n",
       "      <td>20160906204935</td>\n",
       "      <td>2016-09-07</td>\n",
       "      <td>Mexican Folk Art...</td>\n",
       "      <td>Come stay with a...</td>\n",
       "      <td>Come stay with a...</td>\n",
       "      <td>Come stay with a...</td>\n",
       "      <td>none</td>\n",
       "      <td>The LOCATION: Ro...</td>\n",
       "      <td>I am in a scenic...</td>\n",
       "      <td>PUBLIC TRANSPORT...</td>\n",
       "      <td>I am living in t...</td>\n",
       "      <td>ABOUT ME: I'm a ...</td>\n",
       "      <td>I encourage you ...</td>\n",
       "      <td>https://a2.musca...</td>\n",
       "      <td>https://a2.musca...</td>\n",
       "      <td>https://a2.musca...</td>\n",
       "      <td>https://a2.musca...</td>\n",
       "      <td>16701</td>\n",
       "      <td>https://www.airb...</td>\n",
       "      <td>Phil</td>\n",
       "      <td>2009-05-11</td>\n",
       "      <td>Boston, Massachu...</td>\n",
       "      <td>I am a middle-ag...</td>\n",
       "      <td>within a few hours</td>\n",
       "      <td>100%</td>\n",
       "      <td>88%</td>\n",
       "      <td>t</td>\n",
       "      <td>https://a2.musca...</td>\n",
       "      <td>https://a2.musca...</td>\n",
       "      <td>Roslindale</td>\n",
       "      <td>1</td>\n",
       "      <td>1</td>\n",
       "      <td>['email', 'phone...</td>\n",
       "      <td>t</td>\n",
       "      <td>t</td>\n",
       "      <td>Ardale St., Bost...</td>\n",
       "      <td>Roslindale</td>\n",
       "      <td>Roslindale</td>\n",
       "      <td>NaN</td>\n",
       "      <td>Boston</td>\n",
       "      <td>MA</td>\n",
       "      <td>02131</td>\n",
       "      <td>Boston</td>\n",
       "      <td>Boston, MA</td>\n",
       "      <td>US</td>\n",
       "      <td>United States</td>\n",
       "      <td>42.292438</td>\n",
       "      <td>-71.135765</td>\n",
       "      <td>t</td>\n",
       "      <td>Apartment</td>\n",
       "      <td>Private room</td>\n",
       "      <td>2</td>\n",
       "      <td>1.0</td>\n",
       "      <td>1.0</td>\n",
       "      <td>1.0</td>\n",
       "      <td>Real Bed</td>\n",
       "      <td>{TV,\"Cable TV\",\"...</td>\n",
       "      <td>NaN</td>\n",
       "      <td>$65.00</td>\n",
       "      <td>$395.00</td>\n",
       "      <td>$1,350.00</td>\n",
       "      <td>NaN</td>\n",
       "      <td>NaN</td>\n",
       "      <td>1</td>\n",
       "      <td>$20.00</td>\n",
       "      <td>3</td>\n",
       "      <td>45</td>\n",
       "      <td>5 days ago</td>\n",
       "      <td>NaN</td>\n",
       "      <td>19</td>\n",
       "      <td>46</td>\n",
       "      <td>61</td>\n",
       "      <td>319</td>\n",
       "      <td>2016-09-06</td>\n",
       "      <td>41</td>\n",
       "      <td>2009-07-19</td>\n",
       "      <td>2016-08-05</td>\n",
       "      <td>98.0</td>\n",
       "      <td>10.0</td>\n",
       "      <td>9.0</td>\n",
       "      <td>10.0</td>\n",
       "      <td>10.0</td>\n",
       "      <td>9.0</td>\n",
       "      <td>10.0</td>\n",
       "      <td>f</td>\n",
       "      <td>NaN</td>\n",
       "      <td>NaN</td>\n",
       "      <td>f</td>\n",
       "      <td>moderate</td>\n",
       "      <td>t</td>\n",
       "      <td>f</td>\n",
       "      <td>1</td>\n",
       "      <td>0.47</td>\n",
       "    </tr>\n",
       "    <tr>\n",
       "      <th>3</th>\n",
       "      <td>1436513</td>\n",
       "      <td>https://www.airb...</td>\n",
       "      <td>20160906204935</td>\n",
       "      <td>2016-09-07</td>\n",
       "      <td>Spacious Sunny B...</td>\n",
       "      <td>Come experience ...</td>\n",
       "      <td>Most places you ...</td>\n",
       "      <td>Come experience ...</td>\n",
       "      <td>none</td>\n",
       "      <td>Roslindale is a ...</td>\n",
       "      <td>Please be mindfu...</td>\n",
       "      <td>There are buses ...</td>\n",
       "      <td>The basement has...</td>\n",
       "      <td>We do live in th...</td>\n",
       "      <td>- The bathroom a...</td>\n",
       "      <td>https://a2.musca...</td>\n",
       "      <td>https://a2.musca...</td>\n",
       "      <td>https://a2.musca...</td>\n",
       "      <td>https://a2.musca...</td>\n",
       "      <td>6031442</td>\n",
       "      <td>https://www.airb...</td>\n",
       "      <td>Meghna</td>\n",
       "      <td>2013-04-21</td>\n",
       "      <td>Boston, Massachu...</td>\n",
       "      <td>My husband and I...</td>\n",
       "      <td>within a few hours</td>\n",
       "      <td>100%</td>\n",
       "      <td>50%</td>\n",
       "      <td>f</td>\n",
       "      <td>https://a2.musca...</td>\n",
       "      <td>https://a2.musca...</td>\n",
       "      <td>NaN</td>\n",
       "      <td>1</td>\n",
       "      <td>1</td>\n",
       "      <td>['email', 'phone...</td>\n",
       "      <td>t</td>\n",
       "      <td>f</td>\n",
       "      <td>Boston, MA, Unit...</td>\n",
       "      <td>NaN</td>\n",
       "      <td>Roslindale</td>\n",
       "      <td>NaN</td>\n",
       "      <td>Boston</td>\n",
       "      <td>MA</td>\n",
       "      <td>NaN</td>\n",
       "      <td>Boston</td>\n",
       "      <td>Boston, MA</td>\n",
       "      <td>US</td>\n",
       "      <td>United States</td>\n",
       "      <td>42.281106</td>\n",
       "      <td>-71.121021</td>\n",
       "      <td>f</td>\n",
       "      <td>House</td>\n",
       "      <td>Private room</td>\n",
       "      <td>4</td>\n",
       "      <td>1.0</td>\n",
       "      <td>1.0</td>\n",
       "      <td>2.0</td>\n",
       "      <td>Real Bed</td>\n",
       "      <td>{TV,Internet,\"Wi...</td>\n",
       "      <td>NaN</td>\n",
       "      <td>$75.00</td>\n",
       "      <td>NaN</td>\n",
       "      <td>NaN</td>\n",
       "      <td>$100.00</td>\n",
       "      <td>$50.00</td>\n",
       "      <td>2</td>\n",
       "      <td>$25.00</td>\n",
       "      <td>1</td>\n",
       "      <td>1125</td>\n",
       "      <td>a week ago</td>\n",
       "      <td>NaN</td>\n",
       "      <td>6</td>\n",
       "      <td>16</td>\n",
       "      <td>26</td>\n",
       "      <td>98</td>\n",
       "      <td>2016-09-06</td>\n",
       "      <td>1</td>\n",
       "      <td>2016-08-28</td>\n",
       "      <td>2016-08-28</td>\n",
       "      <td>100.0</td>\n",
       "      <td>10.0</td>\n",
       "      <td>10.0</td>\n",
       "      <td>10.0</td>\n",
       "      <td>10.0</td>\n",
       "      <td>10.0</td>\n",
       "      <td>10.0</td>\n",
       "      <td>f</td>\n",
       "      <td>NaN</td>\n",
       "      <td>NaN</td>\n",
       "      <td>f</td>\n",
       "      <td>moderate</td>\n",
       "      <td>f</td>\n",
       "      <td>f</td>\n",
       "      <td>1</td>\n",
       "      <td>1.00</td>\n",
       "    </tr>\n",
       "    <tr>\n",
       "      <th>4</th>\n",
       "      <td>7651065</td>\n",
       "      <td>https://www.airb...</td>\n",
       "      <td>20160906204935</td>\n",
       "      <td>2016-09-07</td>\n",
       "      <td>Come Home to Boston</td>\n",
       "      <td>My comfy, clean ...</td>\n",
       "      <td>Clean, attractiv...</td>\n",
       "      <td>My comfy, clean ...</td>\n",
       "      <td>none</td>\n",
       "      <td>I love the proxi...</td>\n",
       "      <td>I have one roomm...</td>\n",
       "      <td>From Logan Airpo...</td>\n",
       "      <td>You will have ac...</td>\n",
       "      <td>I love my city a...</td>\n",
       "      <td>Please no smokin...</td>\n",
       "      <td>https://a1.musca...</td>\n",
       "      <td>https://a1.musca...</td>\n",
       "      <td>https://a1.musca...</td>\n",
       "      <td>https://a1.musca...</td>\n",
       "      <td>15396970</td>\n",
       "      <td>https://www.airb...</td>\n",
       "      <td>Linda</td>\n",
       "      <td>2014-05-11</td>\n",
       "      <td>Boston, Massachu...</td>\n",
       "      <td>I work full time...</td>\n",
       "      <td>within an hour</td>\n",
       "      <td>100%</td>\n",
       "      <td>100%</td>\n",
       "      <td>t</td>\n",
       "      <td>https://a0.musca...</td>\n",
       "      <td>https://a0.musca...</td>\n",
       "      <td>Roslindale</td>\n",
       "      <td>1</td>\n",
       "      <td>1</td>\n",
       "      <td>['email', 'phone...</td>\n",
       "      <td>t</td>\n",
       "      <td>t</td>\n",
       "      <td>Durnell Avenue, ...</td>\n",
       "      <td>Roslindale</td>\n",
       "      <td>Roslindale</td>\n",
       "      <td>NaN</td>\n",
       "      <td>Boston</td>\n",
       "      <td>MA</td>\n",
       "      <td>02131</td>\n",
       "      <td>Boston</td>\n",
       "      <td>Boston, MA</td>\n",
       "      <td>US</td>\n",
       "      <td>United States</td>\n",
       "      <td>42.284512</td>\n",
       "      <td>-71.136258</td>\n",
       "      <td>t</td>\n",
       "      <td>House</td>\n",
       "      <td>Private room</td>\n",
       "      <td>2</td>\n",
       "      <td>1.5</td>\n",
       "      <td>1.0</td>\n",
       "      <td>2.0</td>\n",
       "      <td>Real Bed</td>\n",
       "      <td>{Internet,\"Wirel...</td>\n",
       "      <td>NaN</td>\n",
       "      <td>$79.00</td>\n",
       "      <td>NaN</td>\n",
       "      <td>NaN</td>\n",
       "      <td>NaN</td>\n",
       "      <td>$15.00</td>\n",
       "      <td>1</td>\n",
       "      <td>$0.00</td>\n",
       "      <td>2</td>\n",
       "      <td>31</td>\n",
       "      <td>2 weeks ago</td>\n",
       "      <td>NaN</td>\n",
       "      <td>13</td>\n",
       "      <td>34</td>\n",
       "      <td>59</td>\n",
       "      <td>334</td>\n",
       "      <td>2016-09-06</td>\n",
       "      <td>29</td>\n",
       "      <td>2015-08-18</td>\n",
       "      <td>2016-09-01</td>\n",
       "      <td>99.0</td>\n",
       "      <td>10.0</td>\n",
       "      <td>10.0</td>\n",
       "      <td>10.0</td>\n",
       "      <td>10.0</td>\n",
       "      <td>9.0</td>\n",
       "      <td>10.0</td>\n",
       "      <td>f</td>\n",
       "      <td>NaN</td>\n",
       "      <td>NaN</td>\n",
       "      <td>f</td>\n",
       "      <td>flexible</td>\n",
       "      <td>f</td>\n",
       "      <td>f</td>\n",
       "      <td>1</td>\n",
       "      <td>2.25</td>\n",
       "    </tr>\n",
       "  </tbody>\n",
       "</table>\n",
       "</div>"
      ],
      "text/plain": [
       "         id          listing_url       scrape_id last_scraped  \\\n",
       "0  12147973  https://www.airb...  20160906204935   2016-09-07   \n",
       "1   3075044  https://www.airb...  20160906204935   2016-09-07   \n",
       "2      6976  https://www.airb...  20160906204935   2016-09-07   \n",
       "3   1436513  https://www.airb...  20160906204935   2016-09-07   \n",
       "4   7651065  https://www.airb...  20160906204935   2016-09-07   \n",
       "\n",
       "                  name              summary                space  \\\n",
       "0  Sunny Bungalow i...  Cozy, sunny, fam...  The house has an...   \n",
       "1  Charming room in...  Charming and qui...  Small but cozy a...   \n",
       "2  Mexican Folk Art...  Come stay with a...  Come stay with a...   \n",
       "3  Spacious Sunny B...  Come experience ...  Most places you ...   \n",
       "4  Come Home to Boston  My comfy, clean ...  Clean, attractiv...   \n",
       "\n",
       "           description experiences_offered neighborhood_overview  \\\n",
       "0  Cozy, sunny, fam...                none  Roslindale is qu...    \n",
       "1  Charming and qui...                none  The room is in R...    \n",
       "2  Come stay with a...                none  The LOCATION: Ro...    \n",
       "3  Come experience ...                none  Roslindale is a ...    \n",
       "4  My comfy, clean ...                none  I love the proxi...    \n",
       "\n",
       "                 notes              transit               access  \\\n",
       "0                  NaN  The bus stop is ...  You will have ac...   \n",
       "1  If you don't hav...  Plenty of safe s...  Apt has one more...   \n",
       "2  I am in a scenic...  PUBLIC TRANSPORT...  I am living in t...   \n",
       "3  Please be mindfu...  There are buses ...  The basement has...   \n",
       "4  I have one roomm...  From Logan Airpo...  You will have ac...   \n",
       "\n",
       "           interaction          house_rules        thumbnail_url  \\\n",
       "0                  NaN  Clean up and tre...  https://a2.musca...   \n",
       "1  If I am at home,...  Pet friendly but...  https://a1.musca...   \n",
       "2  ABOUT ME: I'm a ...  I encourage you ...  https://a2.musca...   \n",
       "3  We do live in th...  - The bathroom a...  https://a2.musca...   \n",
       "4  I love my city a...  Please no smokin...  https://a1.musca...   \n",
       "\n",
       "            medium_url          picture_url       xl_picture_url   host_id  \\\n",
       "0  https://a2.musca...  https://a2.musca...  https://a2.musca...  31303940   \n",
       "1  https://a1.musca...  https://a1.musca...  https://a1.musca...   2572247   \n",
       "2  https://a2.musca...  https://a2.musca...  https://a2.musca...     16701   \n",
       "3  https://a2.musca...  https://a2.musca...  https://a2.musca...   6031442   \n",
       "4  https://a1.musca...  https://a1.musca...  https://a1.musca...  15396970   \n",
       "\n",
       "              host_url host_name  host_since        host_location  \\\n",
       "0  https://www.airb...  Virginia  2015-04-15  Boston, Massachu...   \n",
       "1  https://www.airb...    Andrea  2012-06-07  Boston, Massachu...   \n",
       "2  https://www.airb...      Phil  2009-05-11  Boston, Massachu...   \n",
       "3  https://www.airb...    Meghna  2013-04-21  Boston, Massachu...   \n",
       "4  https://www.airb...     Linda  2014-05-11  Boston, Massachu...   \n",
       "\n",
       "            host_about  host_response_time host_response_rate  \\\n",
       "0  We are country a...                 NaN                NaN   \n",
       "1  I live in Boston...      within an hour               100%   \n",
       "2  I am a middle-ag...  within a few hours               100%   \n",
       "3  My husband and I...  within a few hours               100%   \n",
       "4  I work full time...      within an hour               100%   \n",
       "\n",
       "  host_acceptance_rate host_is_superhost   host_thumbnail_url  \\\n",
       "0                  NaN                 f  https://a2.musca...   \n",
       "1                 100%                 f  https://a2.musca...   \n",
       "2                  88%                 t  https://a2.musca...   \n",
       "3                  50%                 f  https://a2.musca...   \n",
       "4                 100%                 t  https://a0.musca...   \n",
       "\n",
       "      host_picture_url host_neighbourhood  host_listings_count  \\\n",
       "0  https://a2.musca...         Roslindale                    1   \n",
       "1  https://a2.musca...         Roslindale                    1   \n",
       "2  https://a2.musca...         Roslindale                    1   \n",
       "3  https://a2.musca...                NaN                    1   \n",
       "4  https://a0.musca...         Roslindale                    1   \n",
       "\n",
       "   host_total_listings_count   host_verifications host_has_profile_pic  \\\n",
       "0                    1        ['email', 'phone...                    t   \n",
       "1                    1        ['email', 'phone...                    t   \n",
       "2                    1        ['email', 'phone...                    t   \n",
       "3                    1        ['email', 'phone...                    t   \n",
       "4                    1        ['email', 'phone...                    t   \n",
       "\n",
       "  host_identity_verified               street neighbourhood  \\\n",
       "0                    f    Birch Street, Bo...    Roslindale   \n",
       "1                    t    Pinehurst Street...    Roslindale   \n",
       "2                    t    Ardale St., Bost...    Roslindale   \n",
       "3                    f    Boston, MA, Unit...           NaN   \n",
       "4                    t    Durnell Avenue, ...    Roslindale   \n",
       "\n",
       "  neighbourhood_cleansed  neighbourhood_group_cleansed    city state zipcode  \\\n",
       "0           Roslindale                    NaN           Boston    MA   02131   \n",
       "1           Roslindale                    NaN           Boston    MA   02131   \n",
       "2           Roslindale                    NaN           Boston    MA   02131   \n",
       "3           Roslindale                    NaN           Boston    MA     NaN   \n",
       "4           Roslindale                    NaN           Boston    MA   02131   \n",
       "\n",
       "   market smart_location country_code        country   latitude  longitude  \\\n",
       "0  Boston     Boston, MA           US  United States  42.282619 -71.133068   \n",
       "1  Boston     Boston, MA           US  United States  42.286241 -71.134374   \n",
       "2  Boston     Boston, MA           US  United States  42.292438 -71.135765   \n",
       "3  Boston     Boston, MA           US  United States  42.281106 -71.121021   \n",
       "4  Boston     Boston, MA           US  United States  42.284512 -71.136258   \n",
       "\n",
       "  is_location_exact property_type        room_type  accommodates  bathrooms  \\\n",
       "0                 t         House  Entire home/apt             4        1.5   \n",
       "1                 t     Apartment     Private room             2        1.0   \n",
       "2                 t     Apartment     Private room             2        1.0   \n",
       "3                 f         House     Private room             4        1.0   \n",
       "4                 t         House     Private room             2        1.5   \n",
       "\n",
       "   bedrooms  beds  bed_type            amenities  square_feet    price  \\\n",
       "0       2.0   3.0  Real Bed  {TV,\"Wireless In...          NaN  $250.00   \n",
       "1       1.0   1.0  Real Bed  {TV,Internet,\"Wi...          NaN   $65.00   \n",
       "2       1.0   1.0  Real Bed  {TV,\"Cable TV\",\"...          NaN   $65.00   \n",
       "3       1.0   2.0  Real Bed  {TV,Internet,\"Wi...          NaN   $75.00   \n",
       "4       1.0   2.0  Real Bed  {Internet,\"Wirel...          NaN   $79.00   \n",
       "\n",
       "  weekly_price monthly_price security_deposit cleaning_fee  guests_included  \\\n",
       "0          NaN           NaN              NaN       $35.00                1   \n",
       "1      $400.00           NaN           $95.00       $10.00                0   \n",
       "2      $395.00     $1,350.00              NaN          NaN                1   \n",
       "3          NaN           NaN          $100.00       $50.00                2   \n",
       "4          NaN           NaN              NaN       $15.00                1   \n",
       "\n",
       "  extra_people  minimum_nights  maximum_nights calendar_updated  \\\n",
       "0        $0.00               2            1125      2 weeks ago   \n",
       "1        $0.00               2              15       a week ago   \n",
       "2       $20.00               3              45       5 days ago   \n",
       "3       $25.00               1            1125       a week ago   \n",
       "4        $0.00               2              31      2 weeks ago   \n",
       "\n",
       "   has_availability  availability_30  availability_60  availability_90  \\\n",
       "0               NaN                0                0                0   \n",
       "1               NaN               26               54               84   \n",
       "2               NaN               19               46               61   \n",
       "3               NaN                6               16               26   \n",
       "4               NaN               13               34               59   \n",
       "\n",
       "   availability_365 calendar_last_scraped  number_of_reviews first_review  \\\n",
       "0                 0           2016-09-06                   0          NaN   \n",
       "1               359           2016-09-06                  36   2014-06-01   \n",
       "2               319           2016-09-06                  41   2009-07-19   \n",
       "3                98           2016-09-06                   1   2016-08-28   \n",
       "4               334           2016-09-06                  29   2015-08-18   \n",
       "\n",
       "  last_review  review_scores_rating  review_scores_accuracy  \\\n",
       "0         NaN                  NaN                   NaN      \n",
       "1  2016-08-13                 94.0                  10.0      \n",
       "2  2016-08-05                 98.0                  10.0      \n",
       "3  2016-08-28                100.0                  10.0      \n",
       "4  2016-09-01                 99.0                  10.0      \n",
       "\n",
       "   review_scores_cleanliness  review_scores_checkin  \\\n",
       "0                  NaN                        NaN     \n",
       "1                  9.0                       10.0     \n",
       "2                  9.0                       10.0     \n",
       "3                 10.0                       10.0     \n",
       "4                 10.0                       10.0     \n",
       "\n",
       "   review_scores_communication  review_scores_location  review_scores_value  \\\n",
       "0                  NaN                          NaN                     NaN   \n",
       "1                 10.0                          9.0                     9.0   \n",
       "2                 10.0                          9.0                    10.0   \n",
       "3                 10.0                         10.0                    10.0   \n",
       "4                 10.0                          9.0                    10.0   \n",
       "\n",
       "  requires_license  license  jurisdiction_names instant_bookable  \\\n",
       "0                f      NaN                 NaN                f   \n",
       "1                f      NaN                 NaN                t   \n",
       "2                f      NaN                 NaN                f   \n",
       "3                f      NaN                 NaN                f   \n",
       "4                f      NaN                 NaN                f   \n",
       "\n",
       "  cancellation_policy require_guest_profile_picture  \\\n",
       "0            moderate                    f            \n",
       "1            moderate                    f            \n",
       "2            moderate                    t            \n",
       "3            moderate                    f            \n",
       "4            flexible                    f            \n",
       "\n",
       "  require_guest_phone_verification  calculated_host_listings_count  \\\n",
       "0                    f                                1              \n",
       "1                    f                                1              \n",
       "2                    f                                1              \n",
       "3                    f                                1              \n",
       "4                    f                                1              \n",
       "\n",
       "   reviews_per_month  \n",
       "0                NaN  \n",
       "1               1.30  \n",
       "2               0.47  \n",
       "3               1.00  \n",
       "4               2.25  "
      ]
     },
     "execution_count": 563,
     "metadata": {},
     "output_type": "execute_result"
    }
   ],
   "source": [
    "pd.set_option('display.max_columns', None)\n",
    "pd.set_option('max_colwidth', 20)\n",
    "boston_df_listings.head(5)"
   ]
  },
  {
   "cell_type": "markdown",
   "metadata": {},
   "source": [
    "### Select the features from listings that are  going to be considered in the analysis"
   ]
  },
  {
   "cell_type": "code",
   "execution_count": 519,
   "metadata": {},
   "outputs": [],
   "source": [
    "listings_features = ['id', 'neighborhood_overview', 'transit', 'host_response_rate', 'host_acceptance_rate', \n",
    "                     'neighbourhood_cleansed', 'zipcode', 'latitude', 'longitude', 'property_type', 'room_type', \n",
    "                     'accommodates','bathrooms', 'bedrooms', 'beds', 'bed_type', 'amenities','price', 'guests_included', \n",
    "                     'extra_people', 'number_of_reviews', 'review_scores_rating', 'review_scores_accuracy', 'review_scores_cleanliness',\n",
    "                     'review_scores_checkin', 'review_scores_communication', 'review_scores_location', 'review_scores_value', \n",
    "                     'cancellation_policy', 'reviews_per_month']"
   ]
  },
  {
   "cell_type": "code",
   "execution_count": 520,
   "metadata": {},
   "outputs": [],
   "source": [
    "boston_df2_listings = boston_df_listings[listings_features]\n",
    "seattle_df2_listings = seattle_df_listings[listings_features]"
   ]
  },
  {
   "cell_type": "markdown",
   "metadata": {},
   "source": [
    "#### Nan values in the datasets"
   ]
  },
  {
   "cell_type": "code",
   "execution_count": 544,
   "metadata": {},
   "outputs": [],
   "source": [
    "boston_nulls_listings = boston_df2_listings.isnull().sum()/boston_df_listings.shape[0]*100\n",
    "boston_nulls_calendar = boston_df_calendar.isnull().sum()/boston_df_calendar.shape[0]*100\n",
    "boston_nulls_reviews  = boston_df_reviews.isnull().sum()/boston_df_reviews.shape[0]*100\n"
   ]
  },
  {
   "cell_type": "code",
   "execution_count": 545,
   "metadata": {},
   "outputs": [
    {
     "data": {
      "image/png": "[encoded data removed]",
      "text/plain": [
       "<Figure size 1440x360 with 3 Axes>"
      ]
     },
     "metadata": {
      "needs_background": "light"
     },
     "output_type": "display_data"
    }
   ],
   "source": [
    "fig, ax = plt.subplots(nrows=1, ncols=3, figsize=(20,5)) \n",
    "fig.suptitle('Boston datatasets nulls values distribution', fontsize=18, c='b')\n",
    "#boston_nulls_listings.hist(ax=ax[0])\n",
    "sns.histplot(data=boston_nulls_listings,x=boston_nulls_listings.values ,discrete=False,ax=ax[0])\n",
    "sns.histplot(data=boston_nulls_calendar,x=boston_nulls_calendar.values ,discrete=False,ax=ax[1])\n",
    "sns.histplot(data=boston_nulls_reviews,x=boston_nulls_reviews.values ,discrete=False,ax=ax[2])\n",
    "ax[0].set_title('Listings')\n",
    "ax[1].set_title('Calendar')\n",
    "ax[2].set_title('Reviews');"
   ]
  },
  {
   "cell_type": "code",
   "execution_count": 546,
   "metadata": {},
   "outputs": [],
   "source": [
    "seattle_nulls_listings = seattle_df2_listings.isnull().sum()/seattle_df_listings.shape[0]*100\n",
    "seattle_nulls_calendar = seattle_df_calendar.isnull().sum()/seattle_df_calendar.shape[0]*100\n",
    "seattle_nulls_reviews  = seattle_df_reviews.isnull().sum()/seattle_df_reviews.shape[0]*100"
   ]
  },
  {
   "cell_type": "code",
   "execution_count": 547,
   "metadata": {},
   "outputs": [
    {
     "data": {
      "image/png": "[encoded data removed]",
      "text/plain": [
       "<Figure size 1440x360 with 3 Axes>"
      ]
     },
     "metadata": {
      "needs_background": "light"
     },
     "output_type": "display_data"
    }
   ],
   "source": [
    "fig, ax = plt.subplots(nrows=1, ncols=3, figsize=(20,5)) \n",
    "fig.suptitle('Seattle datatasets nulls values distribution', fontsize=18, c='b')\n",
    "\n",
    "sns.histplot(data=seattle_nulls_listings,x=seattle_nulls_listings.values ,discrete=False,ax=ax[0])\n",
    "sns.histplot(data=seattle_nulls_calendar,x=seattle_nulls_calendar.values ,discrete=False,ax=ax[1])\n",
    "sns.histplot(data=seattle_nulls_reviews,x=seattle_nulls_reviews.values ,discrete=False,ax=ax[2])\n",
    "ax[0].set_title('Listings')\n",
    "ax[1].set_title('Calendar')\n",
    "ax[2].set_title('Reviews');"
   ]
  },
  {
   "cell_type": "markdown",
   "metadata": {},
   "source": [
    "### It looks that in both cities Seattle and Boston the Listings datasets have the more columns with Nan values"
   ]
  },
  {
   "cell_type": "markdown",
   "metadata": {},
   "source": [
    "#### Columns with more than 20% Nan Values"
   ]
  },
  {
   "cell_type": "code",
   "execution_count": 553,
   "metadata": {},
   "outputs": [
    {
     "name": "stdout",
     "output_type": "stream",
     "text": [
      "BOSTON\n",
      "Listings dataset columns with more than 20% Nan values\n"
     ]
    },
    {
     "data": {
      "text/plain": [
       "Index(['neighborhood_overview', 'transit', 'review_scores_rating',\n",
       "       'review_scores_accuracy', 'review_scores_cleanliness',\n",
       "       'review_scores_checkin', 'review_scores_communication',\n",
       "       'review_scores_location', 'review_scores_value', 'reviews_per_month'],\n",
       "      dtype='object')"
      ]
     },
     "execution_count": 553,
     "metadata": {},
     "output_type": "execute_result"
    }
   ],
   "source": [
    "print('BOSTON')\n",
    "print('Listings dataset columns with more than 20% Nan values')\n",
    "boston_df2_listings.columns[boston_nulls_listings >= 20]"
   ]
  },
  {
   "cell_type": "code",
   "execution_count": 554,
   "metadata": {},
   "outputs": [
    {
     "name": "stdout",
     "output_type": "stream",
     "text": [
      "SEATTLE\n",
      "Listings dataset columns with more than 20% Nan values\n"
     ]
    },
    {
     "data": {
      "text/plain": [
       "Index(['neighborhood_overview', 'transit', 'host_acceptance_rate'], dtype='object')"
      ]
     },
     "execution_count": 554,
     "metadata": {},
     "output_type": "execute_result"
    }
   ],
   "source": [
    "print('SEATTLE')\n",
    "print('Listings dataset columns with more than 20% Nan values')\n",
    "seattle_df2_listings.columns[seattle_nulls_listings >= 20]"
   ]
  },
  {
   "cell_type": "markdown",
   "metadata": {},
   "source": [
    "## Data Cleaning and preprocessing"
   ]
  },
  {
   "cell_type": "markdown",
   "metadata": {},
   "source": [
    "### Convert date columns to year, month, week, dayofWeek"
   ]
  },
  {
   "cell_type": "code",
   "execution_count": 207,
   "metadata": {},
   "outputs": [],
   "source": [
    "boston_df_calendar['month'] = pd.to_datetime(boston_df_calendar['date']).dt.month\n",
    "boston_df_calendar['year'] = pd.to_datetime(boston_df_calendar['date']).dt.year\n",
    "boston_df_calendar['dayofweek'] = pd.to_datetime(boston_df_calendar['date']).dt.dayofweek"
   ]
  },
  {
   "cell_type": "code",
   "execution_count": 208,
   "metadata": {},
   "outputs": [],
   "source": [
    "seattle_df_calendar['month'] = pd.to_datetime(seattle_df_calendar['date']).dt.month\n",
    "seattle_df_calendar['year'] = pd.to_datetime(seattle_df_calendar['date']).dt.year\n",
    "seattle_df_calendar['dayofweek'] = pd.to_datetime(seattle_df_calendar['date']).dt.dayofweek"
   ]
  },
  {
   "cell_type": "code",
   "execution_count": 248,
   "metadata": {},
   "outputs": [],
   "source": [
    "boston_df_reviews['month'] = pd.to_datetime(boston_df_reviews['date']).dt.month\n",
    "boston_df_reviews['year'] = pd.to_datetime(boston_df_reviews['date']).dt.year\n",
    "boston_df_reviews['dayofweek'] = pd.to_datetime(boston_df_reviews['date']).dt.dayofweek"
   ]
  },
  {
   "cell_type": "code",
   "execution_count": 250,
   "metadata": {},
   "outputs": [],
   "source": [
    "seattle_df_reviews['month'] = pd.to_datetime(seattle_df_reviews['date']).dt.month\n",
    "seattle_df_reviews['year'] = pd.to_datetime(seattle_df_reviews['date']).dt.year\n",
    "seattle_df_reviews['dayofweek'] = pd.to_datetime(seattle_df_reviews['date']).dt.dayofweek"
   ]
  },
  {
   "cell_type": "markdown",
   "metadata": {},
   "source": [
    "### Using the NLTK library, preprocessing the text columns to extract some features to include in the model\n",
    "\n",
    "Based on [this](https://towardsdatascience.com/getting-started-with-text-analysis-in-python-ca13590eb4f7) article from **medium** to use the NLTK"
   ]
  },
  {
   "cell_type": "code",
   "execution_count": 559,
   "metadata": {},
   "outputs": [],
   "source": [
    "# Function to preprocess the text columns a eliminate word stoppers and puntuantion \n",
    "\n",
    "import re\n",
    "from nltk.stem import WordNetLemmatizer, PorterStemmer, SnowballStemmer\n",
    " \n",
    "\n",
    "def preprocess(raw_text):\n",
    "    \n",
    "    #regular expression keeping only letters \n",
    "    letters_only_text = re.sub(\"[^a-zA-Z]\", \" \", raw_text)\n",
    "\n",
    "    # convert to lower case and split into words -> convert string into list ( 'hello world' -> ['hello', 'world'])\n",
    "    words = letters_only_text.lower().split()\n",
    "\n",
    "    cleaned_words = []\n",
    "    lemmatizer = PorterStemmer() #plug in here any other stemmer or lemmatiser you want to try out\n",
    "    \n",
    "    # remove stopwords\n",
    "    for word in words:\n",
    "        if word not in stop_words:\n",
    "            cleaned_words.append(word)\n",
    "    \n",
    "    # stemm or lemmatise words\n",
    "    stemmed_words = []\n",
    "    for word in cleaned_words:\n",
    "        word = lemmatizer.stem(word)   #dont forget to change stem to lemmatize if you are using a lemmatizer\n",
    "        stemmed_words.append(word)\n",
    "    \n",
    "    # converting list back to string\n",
    "    return \" \".join(stemmed_words)"
   ]
  },
  {
   "cell_type": "code",
   "execution_count": 565,
   "metadata": {},
   "outputs": [],
   "source": [
    "# Copy the text columns to analyze into a new dataframe\n",
    "\n",
    "df = boston_listings_df2[['neighborhood_overview','transit','amenities']].copy()\n",
    "\n",
    "## Convert to string this columns \n",
    "df['transit_str'] = df['transit'].astype(str)\n",
    "df['amenities_str'] = df['amenities'].astype(str)\n",
    "df['neighborhood_str'] = df['neighborhood_overview'].astype(str)\n",
    "\n",
    "# Convert to tokens the columns\n",
    "\n",
    "df['amenities_token'] = df['amenities_str'].apply(preprocess)\n",
    "df['neighborhood_token'] = df['neighborhood_str'].apply(preprocess)\n",
    "df['transit_token'] = df['transit_str'].apply(preprocess)\n",
    "\n"
   ]
  },
  {
   "cell_type": "code",
   "execution_count": 567,
   "metadata": {},
   "outputs": [
    {
     "name": "stdout",
     "output_type": "stream",
     "text": [
      "Most amenities column common words\n"
     ]
    },
    {
     "data": {
      "text/plain": [
       "[('internet', 5998),\n",
       " ('detector', 5353),\n",
       " ('tv', 4377),\n",
       " ('dryer', 4289),\n",
       " ('wireless', 4260),\n",
       " ('friendli', 3722),\n",
       " ('heat', 3384),\n",
       " ('kitchen', 3284),\n",
       " ('smoke', 3006),\n",
       " ('essenti', 2994)]"
      ]
     },
     "execution_count": 567,
     "metadata": {},
     "output_type": "execute_result"
    }
   ],
   "source": [
    "# Most commong words\n",
    "print('Most amenities column common words')\n",
    "from collections import Counter\n",
    "Counter(\" \".join(df[\"amenities_token\"]).split()).most_common(10)\n"
   ]
  },
  {
   "cell_type": "code",
   "execution_count": 568,
   "metadata": {},
   "outputs": [
    {
     "name": "stdout",
     "output_type": "stream",
     "text": [
      "Most transit column common words\n"
     ]
    },
    {
     "data": {
      "text/plain": [
       "[('walk', 2416),\n",
       " ('minut', 2382),\n",
       " ('line', 2240),\n",
       " ('boston', 1766),\n",
       " ('station', 1691),\n",
       " ('nan', 1290),\n",
       " ('park', 1254),\n",
       " ('bu', 1191),\n",
       " ('stop', 1142),\n",
       " ('street', 1053)]"
      ]
     },
     "execution_count": 568,
     "metadata": {},
     "output_type": "execute_result"
    }
   ],
   "source": [
    "# Most commong words\n",
    "print('Most transit column common words')\n",
    "from collections import Counter\n",
    "Counter(\" \".join(df[\"transit_token\"]).split()).most_common(10)"
   ]
  },
  {
   "cell_type": "code",
   "execution_count": 569,
   "metadata": {},
   "outputs": [
    {
     "name": "stdout",
     "output_type": "stream",
     "text": [
      "Most neighborhood column common words\n"
     ]
    },
    {
     "data": {
      "text/plain": [
       "[('boston', 2575),\n",
       " ('walk', 1593),\n",
       " ('neighborhood', 1544),\n",
       " ('restaur', 1471),\n",
       " ('nan', 1415),\n",
       " ('street', 1013),\n",
       " ('shop', 916),\n",
       " ('park', 896),\n",
       " ('locat', 778),\n",
       " ('minut', 765)]"
      ]
     },
     "execution_count": 569,
     "metadata": {},
     "output_type": "execute_result"
    }
   ],
   "source": [
    "# Most commong words\n",
    "print('Most neighborhood column common words')\n",
    "from collections import Counter\n",
    "Counter(\" \".join(df[\"neighborhood_token\"]).split()).most_common(10)"
   ]
  },
  {
   "cell_type": "code",
   "execution_count": null,
   "metadata": {},
   "outputs": [],
   "source": [
    "#nice library to produce wordclouds\n",
    "\n",
    "\n",
    "\n",
    "all_words = '' \n",
    "\n",
    "#looping through all incidents and joining them to one text, to extract most common words\n",
    "for arg in df[\"amenities_token\"]: \n",
    "\n",
    "    tokens = arg.split()  \n",
    "      \n",
    "    all_words += \" \".join(tokens)+\" \"\n",
    "\n",
    "wordcloud = WordCloud(width = 700, height = 700, \n",
    "                background_color ='white', \n",
    "                min_font_size = 10).generate(all_words) \n",
    "  \n",
    "# plot the WordCloud image                        \n",
    "plt.figure(figsize = (5, 5), facecolor = None) \n",
    "plt.imshow(wordcloud) \n",
    "plt.axis(\"off\") \n",
    "plt.tight_layout(pad = 0)"
   ]
  },
  {
   "cell_type": "code",
   "execution_count": 188,
   "metadata": {},
   "outputs": [
    {
     "data": {
      "image/png": "[encoded data removed]",
      "text/plain": [
       "<Figure size 864x576 with 1 Axes>"
      ]
     },
     "metadata": {
      "needs_background": "light"
     },
     "output_type": "display_data"
    }
   ],
   "source": [
    "fig = plt.figure(figsize=(12,8))\n",
    "ax = fig.add_subplot(111)\n",
    "month_b.plot.bar(ax=ax);"
   ]
  },
  {
   "cell_type": "code",
   "execution_count": 189,
   "metadata": {},
   "outputs": [
    {
     "data": {
      "image/png": "[encoded data removed]",
      "text/plain": [
       "<Figure size 864x576 with 1 Axes>"
      ]
     },
     "metadata": {
      "needs_background": "light"
     },
     "output_type": "display_data"
    }
   ],
   "source": [
    "fig = plt.figure(figsize=(12,8))\n",
    "ax = fig.add_subplot(111)\n",
    "month_s.plot.bar(ax=ax);"
   ]
  },
  {
   "cell_type": "code",
   "execution_count": 495,
   "metadata": {},
   "outputs": [
    {
     "data": {
      "image/png": "[encoded data removed]",
      "text/plain": [
       "<Figure size 360x360 with 1 Axes>"
      ]
     },
     "metadata": {
      "needs_background": "light"
     },
     "output_type": "display_data"
    }
   ],
   "source": [
    " "
   ]
  },
  {
   "cell_type": "code",
   "execution_count": null,
   "metadata": {},
   "outputs": [],
   "source": []
  }
 ],
 "metadata": {
  "kernelspec": {
   "display_name": "Python 3",
   "language": "python",
   "name": "python3"
  },
  "language_info": {
   "codemirror_mode": {
    "name": "ipython",
    "version": 3
   },
   "file_extension": ".py",
   "mimetype": "text/x-python",
   "name": "python",
   "nbconvert_exporter": "python",
   "pygments_lexer": "ipython3",
   "version": "3.8.3"
  }
 },
 "nbformat": 4,
 "nbformat_minor": 4
}
